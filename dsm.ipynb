{
  "cells": [
    {
      "cell_type": "markdown",
      "metadata": {
        "id": "view-in-github",
        "colab_type": "text"
      },
      "source": [
        "<a href=\"https://colab.research.google.com/github/Feng96/building_height/blob/main/dsm.ipynb\" target=\"_parent\"><img src=\"https://colab.research.google.com/assets/colab-badge.svg\" alt=\"Open In Colab\"/></a>"
      ]
    },
    {
      "cell_type": "code",
      "execution_count": null,
      "metadata": {
        "id": "fFQBupJe0VWm"
      },
      "outputs": [],
      "source": [
        "import pystac_client\n",
        "import planetary_computer\n",
        "import numpy as np"
      ]
    },
    {
      "cell_type": "code",
      "execution_count": null,
      "metadata": {
        "id": "7h5Y5vtW0VWp"
      },
      "outputs": [],
      "source": [
        "catalog = pystac_client.Client.open(\n",
        "    \"https://planetarycomputer.microsoft.com/api/stac/v1\",\n",
        "    modifier=planetary_computer.sign_inplace,\n",
        ")"
      ]
    },
    {
      "cell_type": "code",
      "execution_count": null,
      "metadata": {
        "id": "ADPRcarI0VWq",
        "outputId": "cd1d31b8-00c1-40be-8451-81dfd3dc3411"
      },
      "outputs": [
        {
          "data": {
            "text/plain": [
              "3381"
            ]
          },
          "execution_count": 4,
          "metadata": {},
          "output_type": "execute_result"
        }
      ],
      "source": [
        "bbox = [-88.474595,30.222501,-84.89248,35.008323]\n",
        "\n",
        "search = catalog.search(collections=[\"3dep-lidar-dsm\"],bbox=bbox)\n",
        "items = search.get_all_items()\n",
        "len(items)"
      ]
    },
    {
      "cell_type": "code",
      "execution_count": null,
      "metadata": {
        "id": "u0nfshau0VWq",
        "outputId": "8758d88a-00ec-4cf8-f719-6ee80399feb4"
      },
      "outputs": [
        {
          "name": "stdout",
          "output_type": "stream",
          "text": [
            "<Item id=USGS_LPC_AL_AGIO_B1_2016_LAS_2019-dsm-2m-6-0>\n"
          ]
        }
      ],
      "source": [
        "selected_item = items[400]\n",
        "print(selected_item)"
      ]
    },
    {
      "cell_type": "code",
      "execution_count": null,
      "metadata": {
        "id": "DLRBGaim0VWr",
        "outputId": "b1847898-0cf0-429f-bf20-8e3105541620"
      },
      "outputs": [
        {
          "data": {
            "text/html": [
              "<div>\n",
              "<style scoped>\n",
              "    .dataframe tbody tr th:only-of-type {\n",
              "        vertical-align: middle;\n",
              "    }\n",
              "\n",
              "    .dataframe tbody tr th {\n",
              "        vertical-align: top;\n",
              "    }\n",
              "\n",
              "    .dataframe thead th {\n",
              "        text-align: right;\n",
              "    }\n",
              "</style>\n",
              "<table border=\"1\" class=\"dataframe\">\n",
              "  <thead>\n",
              "    <tr style=\"text-align: right;\">\n",
              "      <th></th>\n",
              "      <th>geometry</th>\n",
              "      <th>datetime</th>\n",
              "      <th>proj:epsg</th>\n",
              "      <th>proj:shape</th>\n",
              "      <th>3dep:usgs_id</th>\n",
              "      <th>end_datetime</th>\n",
              "      <th>raster:bands</th>\n",
              "      <th>proj:geometry</th>\n",
              "      <th>proj:projjson</th>\n",
              "      <th>proj:transform</th>\n",
              "      <th>start_datetime</th>\n",
              "    </tr>\n",
              "  </thead>\n",
              "  <tbody>\n",
              "    <tr>\n",
              "      <th>0</th>\n",
              "      <td>POLYGON ((-86.92787 34.99012, -86.92788 34.981...</td>\n",
              "      <td>None</td>\n",
              "      <td>None</td>\n",
              "      <td>[463, 4097]</td>\n",
              "      <td>USGS_LPC_TN_Middle_B3_2018_LAS_2019</td>\n",
              "      <td>2019-01-01T00:00:00Z</td>\n",
              "      <td>{'unit': 'metre', 'nodata': 'nan', 'sampling':...</td>\n",
              "      <td>{'type': 'Polygon', 'coordinates': [[[-86.9278...</td>\n",
              "      <td>{'name': 'NAD83 / UTM zone 16N + NAVD88 height...</td>\n",
              "      <td>[2.0, 0.0, 506583.0, 0.0, -2.0, 3871949.0, 0, ...</td>\n",
              "      <td>2019-01-01T00:00:00Z</td>\n",
              "    </tr>\n",
              "    <tr>\n",
              "      <th>1</th>\n",
              "      <td>POLYGON ((-86.92781 35.06399, -86.92787 34.990...</td>\n",
              "      <td>None</td>\n",
              "      <td>None</td>\n",
              "      <td>[4097, 4097]</td>\n",
              "      <td>USGS_LPC_TN_Middle_B3_2018_LAS_2019</td>\n",
              "      <td>2019-01-01T00:00:00Z</td>\n",
              "      <td>{'unit': 'metre', 'nodata': 'nan', 'sampling':...</td>\n",
              "      <td>{'type': 'Polygon', 'coordinates': [[[-86.9278...</td>\n",
              "      <td>{'name': 'NAD83 / UTM zone 16N + NAVD88 height...</td>\n",
              "      <td>[2.0, 0.0, 506583.0, 0.0, -2.0, 3880141.0, 0, ...</td>\n",
              "      <td>2019-01-01T00:00:00Z</td>\n",
              "    </tr>\n",
              "    <tr>\n",
              "      <th>2</th>\n",
              "      <td>POLYGON ((-87.01764 34.99014, -87.01763 34.981...</td>\n",
              "      <td>None</td>\n",
              "      <td>None</td>\n",
              "      <td>[463, 4097]</td>\n",
              "      <td>USGS_LPC_TN_Middle_B3_2018_LAS_2019</td>\n",
              "      <td>2019-01-01T00:00:00Z</td>\n",
              "      <td>{'unit': 'metre', 'nodata': 'nan', 'sampling':...</td>\n",
              "      <td>{'type': 'Polygon', 'coordinates': [[[-87.0176...</td>\n",
              "      <td>{'name': 'NAD83 / UTM zone 16N + NAVD88 height...</td>\n",
              "      <td>[2.0, 0.0, 498391.0, 0.0, -2.0, 3871949.0, 0, ...</td>\n",
              "      <td>2019-01-01T00:00:00Z</td>\n",
              "    </tr>\n",
              "    <tr>\n",
              "      <th>3</th>\n",
              "      <td>POLYGON ((-87.01765 35.06401, -87.01764 34.990...</td>\n",
              "      <td>None</td>\n",
              "      <td>None</td>\n",
              "      <td>[4097, 4097]</td>\n",
              "      <td>USGS_LPC_TN_Middle_B3_2018_LAS_2019</td>\n",
              "      <td>2019-01-01T00:00:00Z</td>\n",
              "      <td>{'unit': 'metre', 'nodata': 'nan', 'sampling':...</td>\n",
              "      <td>{'type': 'Polygon', 'coordinates': [[[-87.0176...</td>\n",
              "      <td>{'name': 'NAD83 / UTM zone 16N + NAVD88 height...</td>\n",
              "      <td>[2.0, 0.0, 498391.0, 0.0, -2.0, 3880141.0, 0, ...</td>\n",
              "      <td>2019-01-01T00:00:00Z</td>\n",
              "    </tr>\n",
              "    <tr>\n",
              "      <th>4</th>\n",
              "      <td>POLYGON ((-87.10750 35.06396, -87.10740 34.990...</td>\n",
              "      <td>None</td>\n",
              "      <td>None</td>\n",
              "      <td>[4097, 4097]</td>\n",
              "      <td>USGS_LPC_TN_Middle_B3_2018_LAS_2019</td>\n",
              "      <td>2019-01-01T00:00:00Z</td>\n",
              "      <td>{'unit': 'metre', 'nodata': 'nan', 'sampling':...</td>\n",
              "      <td>{'type': 'Polygon', 'coordinates': [[[-87.1074...</td>\n",
              "      <td>{'name': 'NAD83 / UTM zone 16N + NAVD88 height...</td>\n",
              "      <td>[2.0, 0.0, 490199.0, 0.0, -2.0, 3880141.0, 0, ...</td>\n",
              "      <td>2019-01-01T00:00:00Z</td>\n",
              "    </tr>\n",
              "    <tr>\n",
              "      <th>...</th>\n",
              "      <td>...</td>\n",
              "      <td>...</td>\n",
              "      <td>...</td>\n",
              "      <td>...</td>\n",
              "      <td>...</td>\n",
              "      <td>...</td>\n",
              "      <td>...</td>\n",
              "      <td>...</td>\n",
              "      <td>...</td>\n",
              "      <td>...</td>\n",
              "      <td>...</td>\n",
              "    </tr>\n",
              "    <tr>\n",
              "      <th>3376</th>\n",
              "      <td>POLYGON ((-87.53395 30.34532, -87.53355 30.271...</td>\n",
              "      <td>None</td>\n",
              "      <td>None</td>\n",
              "      <td>[4097, 3073]</td>\n",
              "      <td>FL_EscambiaCo_2006</td>\n",
              "      <td>2006-07-18T00:00:00Z</td>\n",
              "      <td>{'unit': 'metre', 'nodata': 'nan', 'sampling':...</td>\n",
              "      <td>{'type': 'Polygon', 'coordinates': [[[-87.5339...</td>\n",
              "      <td>{'name': 'NAD83 / UTM zone 16N + NAVD88 height...</td>\n",
              "      <td>[2.0, 0.0, 448681.0, 0.0, -2.0, 3357171.0, 0, ...</td>\n",
              "      <td>2006-06-21T00:00:00Z</td>\n",
              "    </tr>\n",
              "    <tr>\n",
              "      <th>3377</th>\n",
              "      <td>POLYGON ((-87.62342 31.00663, -87.62296 30.936...</td>\n",
              "      <td>None</td>\n",
              "      <td>None</td>\n",
              "      <td>[3899, 3073]</td>\n",
              "      <td>FL_EscambiaCo_2006</td>\n",
              "      <td>2006-07-18T00:00:00Z</td>\n",
              "      <td>{'unit': 'metre', 'nodata': 'nan', 'sampling':...</td>\n",
              "      <td>{'type': 'Polygon', 'coordinates': [[[-87.6234...</td>\n",
              "      <td>{'name': 'NAD83 / UTM zone 16N + NAVD88 height...</td>\n",
              "      <td>[2.0, 0.0, 440489.0, 0.0, -2.0, 3430503.0, 0, ...</td>\n",
              "      <td>2006-06-21T00:00:00Z</td>\n",
              "    </tr>\n",
              "    <tr>\n",
              "      <th>3378</th>\n",
              "      <td>POLYGON ((-87.64440 30.93619, -87.64390 30.862...</td>\n",
              "      <td>None</td>\n",
              "      <td>None</td>\n",
              "      <td>[4097, 4097]</td>\n",
              "      <td>FL_EscambiaCo_2006</td>\n",
              "      <td>2006-07-18T00:00:00Z</td>\n",
              "      <td>{'unit': 'metre', 'nodata': 'nan', 'sampling':...</td>\n",
              "      <td>{'type': 'Polygon', 'coordinates': [[[-87.6443...</td>\n",
              "      <td>{'name': 'NAD83 / UTM zone 16N + NAVD88 height...</td>\n",
              "      <td>[2.0, 0.0, 438441.0, 0.0, -2.0, 3422707.0, 0, ...</td>\n",
              "      <td>2006-06-21T00:00:00Z</td>\n",
              "    </tr>\n",
              "    <tr>\n",
              "      <th>3379</th>\n",
              "      <td>POLYGON ((-87.64390 30.86227, -87.64341 30.788...</td>\n",
              "      <td>None</td>\n",
              "      <td>None</td>\n",
              "      <td>[4097, 4097]</td>\n",
              "      <td>FL_EscambiaCo_2006</td>\n",
              "      <td>2006-07-18T00:00:00Z</td>\n",
              "      <td>{'unit': 'metre', 'nodata': 'nan', 'sampling':...</td>\n",
              "      <td>{'type': 'Polygon', 'coordinates': [[[-87.6439...</td>\n",
              "      <td>{'name': 'NAD83 / UTM zone 16N + NAVD88 height...</td>\n",
              "      <td>[2.0, 0.0, 438441.0, 0.0, -2.0, 3414515.0, 0, ...</td>\n",
              "      <td>2006-06-21T00:00:00Z</td>\n",
              "    </tr>\n",
              "    <tr>\n",
              "      <th>3380</th>\n",
              "      <td>POLYGON ((-87.57919 30.78866, -87.57908 30.770...</td>\n",
              "      <td>None</td>\n",
              "      <td>None</td>\n",
              "      <td>[1025, 1025]</td>\n",
              "      <td>FL_EscambiaCo_2006</td>\n",
              "      <td>2006-07-18T00:00:00Z</td>\n",
              "      <td>{'unit': 'metre', 'nodata': 'nan', 'sampling':...</td>\n",
              "      <td>{'type': 'Polygon', 'coordinates': [[[-87.5791...</td>\n",
              "      <td>{'name': 'NAD83 / UTM zone 16N + NAVD88 height...</td>\n",
              "      <td>[2.0, 0.0, 444585.0, 0.0, -2.0, 3406323.0, 0, ...</td>\n",
              "      <td>2006-06-21T00:00:00Z</td>\n",
              "    </tr>\n",
              "  </tbody>\n",
              "</table>\n",
              "<p>3381 rows × 11 columns</p>\n",
              "</div>"
            ],
            "text/plain": [
              "                                               geometry datetime proj:epsg  \\\n",
              "0     POLYGON ((-86.92787 34.99012, -86.92788 34.981...     None      None   \n",
              "1     POLYGON ((-86.92781 35.06399, -86.92787 34.990...     None      None   \n",
              "2     POLYGON ((-87.01764 34.99014, -87.01763 34.981...     None      None   \n",
              "3     POLYGON ((-87.01765 35.06401, -87.01764 34.990...     None      None   \n",
              "4     POLYGON ((-87.10750 35.06396, -87.10740 34.990...     None      None   \n",
              "...                                                 ...      ...       ...   \n",
              "3376  POLYGON ((-87.53395 30.34532, -87.53355 30.271...     None      None   \n",
              "3377  POLYGON ((-87.62342 31.00663, -87.62296 30.936...     None      None   \n",
              "3378  POLYGON ((-87.64440 30.93619, -87.64390 30.862...     None      None   \n",
              "3379  POLYGON ((-87.64390 30.86227, -87.64341 30.788...     None      None   \n",
              "3380  POLYGON ((-87.57919 30.78866, -87.57908 30.770...     None      None   \n",
              "\n",
              "        proj:shape                         3dep:usgs_id          end_datetime  \\\n",
              "0      [463, 4097]  USGS_LPC_TN_Middle_B3_2018_LAS_2019  2019-01-01T00:00:00Z   \n",
              "1     [4097, 4097]  USGS_LPC_TN_Middle_B3_2018_LAS_2019  2019-01-01T00:00:00Z   \n",
              "2      [463, 4097]  USGS_LPC_TN_Middle_B3_2018_LAS_2019  2019-01-01T00:00:00Z   \n",
              "3     [4097, 4097]  USGS_LPC_TN_Middle_B3_2018_LAS_2019  2019-01-01T00:00:00Z   \n",
              "4     [4097, 4097]  USGS_LPC_TN_Middle_B3_2018_LAS_2019  2019-01-01T00:00:00Z   \n",
              "...            ...                                  ...                   ...   \n",
              "3376  [4097, 3073]                   FL_EscambiaCo_2006  2006-07-18T00:00:00Z   \n",
              "3377  [3899, 3073]                   FL_EscambiaCo_2006  2006-07-18T00:00:00Z   \n",
              "3378  [4097, 4097]                   FL_EscambiaCo_2006  2006-07-18T00:00:00Z   \n",
              "3379  [4097, 4097]                   FL_EscambiaCo_2006  2006-07-18T00:00:00Z   \n",
              "3380  [1025, 1025]                   FL_EscambiaCo_2006  2006-07-18T00:00:00Z   \n",
              "\n",
              "                                           raster:bands  \\\n",
              "0     {'unit': 'metre', 'nodata': 'nan', 'sampling':...   \n",
              "1     {'unit': 'metre', 'nodata': 'nan', 'sampling':...   \n",
              "2     {'unit': 'metre', 'nodata': 'nan', 'sampling':...   \n",
              "3     {'unit': 'metre', 'nodata': 'nan', 'sampling':...   \n",
              "4     {'unit': 'metre', 'nodata': 'nan', 'sampling':...   \n",
              "...                                                 ...   \n",
              "3376  {'unit': 'metre', 'nodata': 'nan', 'sampling':...   \n",
              "3377  {'unit': 'metre', 'nodata': 'nan', 'sampling':...   \n",
              "3378  {'unit': 'metre', 'nodata': 'nan', 'sampling':...   \n",
              "3379  {'unit': 'metre', 'nodata': 'nan', 'sampling':...   \n",
              "3380  {'unit': 'metre', 'nodata': 'nan', 'sampling':...   \n",
              "\n",
              "                                          proj:geometry  \\\n",
              "0     {'type': 'Polygon', 'coordinates': [[[-86.9278...   \n",
              "1     {'type': 'Polygon', 'coordinates': [[[-86.9278...   \n",
              "2     {'type': 'Polygon', 'coordinates': [[[-87.0176...   \n",
              "3     {'type': 'Polygon', 'coordinates': [[[-87.0176...   \n",
              "4     {'type': 'Polygon', 'coordinates': [[[-87.1074...   \n",
              "...                                                 ...   \n",
              "3376  {'type': 'Polygon', 'coordinates': [[[-87.5339...   \n",
              "3377  {'type': 'Polygon', 'coordinates': [[[-87.6234...   \n",
              "3378  {'type': 'Polygon', 'coordinates': [[[-87.6443...   \n",
              "3379  {'type': 'Polygon', 'coordinates': [[[-87.6439...   \n",
              "3380  {'type': 'Polygon', 'coordinates': [[[-87.5791...   \n",
              "\n",
              "                                          proj:projjson  \\\n",
              "0     {'name': 'NAD83 / UTM zone 16N + NAVD88 height...   \n",
              "1     {'name': 'NAD83 / UTM zone 16N + NAVD88 height...   \n",
              "2     {'name': 'NAD83 / UTM zone 16N + NAVD88 height...   \n",
              "3     {'name': 'NAD83 / UTM zone 16N + NAVD88 height...   \n",
              "4     {'name': 'NAD83 / UTM zone 16N + NAVD88 height...   \n",
              "...                                                 ...   \n",
              "3376  {'name': 'NAD83 / UTM zone 16N + NAVD88 height...   \n",
              "3377  {'name': 'NAD83 / UTM zone 16N + NAVD88 height...   \n",
              "3378  {'name': 'NAD83 / UTM zone 16N + NAVD88 height...   \n",
              "3379  {'name': 'NAD83 / UTM zone 16N + NAVD88 height...   \n",
              "3380  {'name': 'NAD83 / UTM zone 16N + NAVD88 height...   \n",
              "\n",
              "                                         proj:transform        start_datetime  \n",
              "0     [2.0, 0.0, 506583.0, 0.0, -2.0, 3871949.0, 0, ...  2019-01-01T00:00:00Z  \n",
              "1     [2.0, 0.0, 506583.0, 0.0, -2.0, 3880141.0, 0, ...  2019-01-01T00:00:00Z  \n",
              "2     [2.0, 0.0, 498391.0, 0.0, -2.0, 3871949.0, 0, ...  2019-01-01T00:00:00Z  \n",
              "3     [2.0, 0.0, 498391.0, 0.0, -2.0, 3880141.0, 0, ...  2019-01-01T00:00:00Z  \n",
              "4     [2.0, 0.0, 490199.0, 0.0, -2.0, 3880141.0, 0, ...  2019-01-01T00:00:00Z  \n",
              "...                                                 ...                   ...  \n",
              "3376  [2.0, 0.0, 448681.0, 0.0, -2.0, 3357171.0, 0, ...  2006-06-21T00:00:00Z  \n",
              "3377  [2.0, 0.0, 440489.0, 0.0, -2.0, 3430503.0, 0, ...  2006-06-21T00:00:00Z  \n",
              "3378  [2.0, 0.0, 438441.0, 0.0, -2.0, 3422707.0, 0, ...  2006-06-21T00:00:00Z  \n",
              "3379  [2.0, 0.0, 438441.0, 0.0, -2.0, 3414515.0, 0, ...  2006-06-21T00:00:00Z  \n",
              "3380  [2.0, 0.0, 444585.0, 0.0, -2.0, 3406323.0, 0, ...  2006-06-21T00:00:00Z  \n",
              "\n",
              "[3381 rows x 11 columns]"
            ]
          },
          "execution_count": 6,
          "metadata": {},
          "output_type": "execute_result"
        }
      ],
      "source": [
        "import geopandas\n",
        "\n",
        "df = geopandas.GeoDataFrame.from_features(items.to_dict())\n",
        "df"
      ]
    },
    {
      "cell_type": "code",
      "execution_count": null,
      "metadata": {
        "id": "PkcCdmQZ0VWr",
        "outputId": "7697667b-9716-46ee-fc88-2671ad2ee503"
      },
      "outputs": [
        {
          "data": {
            "text/html": [
              "<pre style=\"white-space:pre;overflow-x:auto;line-height:normal;font-family:Menlo,'DejaVu Sans Mono',consolas,'Courier New',monospace\">┏━━━━━━━━━━━━━━━━━━┳━━━━━━━━━━━━━━━━━━━━━━━━━━━━━━━━━┓\n",
              "┃<span style=\"font-weight: bold\"> Asset Key        </span>┃<span style=\"font-weight: bold\"> Description                     </span>┃\n",
              "┡━━━━━━━━━━━━━━━━━━╇━━━━━━━━━━━━━━━━━━━━━━━━━━━━━━━━━┩\n",
              "│ data             │ COG data                        │\n",
              "│ thumbnail        │ 3DEP Lidar COG                  │\n",
              "│ tilejson         │ TileJSON with default rendering │\n",
              "│ rendered_preview │ Rendered preview                │\n",
              "└──────────────────┴─────────────────────────────────┘\n",
              "</pre>\n"
            ],
            "text/plain": [
              "┏━━━━━━━━━━━━━━━━━━┳━━━━━━━━━━━━━━━━━━━━━━━━━━━━━━━━━┓\n",
              "┃\u001b[1m \u001b[0m\u001b[1mAsset Key       \u001b[0m\u001b[1m \u001b[0m┃\u001b[1m \u001b[0m\u001b[1mDescription                    \u001b[0m\u001b[1m \u001b[0m┃\n",
              "┡━━━━━━━━━━━━━━━━━━╇━━━━━━━━━━━━━━━━━━━━━━━━━━━━━━━━━┩\n",
              "│ data             │ COG data                        │\n",
              "│ thumbnail        │ 3DEP Lidar COG                  │\n",
              "│ tilejson         │ TileJSON with default rendering │\n",
              "│ rendered_preview │ Rendered preview                │\n",
              "└──────────────────┴─────────────────────────────────┘\n"
            ]
          },
          "execution_count": 7,
          "metadata": {},
          "output_type": "execute_result"
        }
      ],
      "source": [
        "import rich.table\n",
        "\n",
        "table = rich.table.Table(\"Asset Key\", \"Description\")\n",
        "for asset_key, asset in selected_item.assets.items():\n",
        "    table.add_row(asset_key, asset.title)\n",
        "\n",
        "table"
      ]
    },
    {
      "cell_type": "code",
      "execution_count": null,
      "metadata": {
        "id": "wTsUbAU00VWs",
        "outputId": "905b2007-eeeb-4d25-b2ce-547b2d8aa67a"
      },
      "outputs": [
        {
          "ename": "HTTPError",
          "evalue": "HTTP Error 403: Server failed to authenticate the request. Make sure the value of Authorization header is formed correctly including the signature.",
          "output_type": "error",
          "traceback": [
            "\u001b[1;31m---------------------------------------------------------------------------\u001b[0m",
            "\u001b[1;31mHTTPError\u001b[0m                                 Traceback (most recent call last)",
            "Cell \u001b[1;32mIn[8], line 7\u001b[0m\n\u001b[0;32m      5\u001b[0m url \u001b[39m=\u001b[39m selected_item\u001b[39m.\u001b[39massets[\u001b[39m\"\u001b[39m\u001b[39mdata\u001b[39m\u001b[39m\"\u001b[39m]\u001b[39m.\u001b[39mhref\n\u001b[0;32m      6\u001b[0m export_address \u001b[39m=\u001b[39m \u001b[39mf\u001b[39m\u001b[39m'\u001b[39m\u001b[39mD:/project/building_height/data/usgs3dep/al/\u001b[39m\u001b[39m'\u001b[39m \u001b[39m+\u001b[39m \u001b[39m'\u001b[39m\u001b[39mal\u001b[39m\u001b[39m'\u001b[39m \u001b[39m+\u001b[39m \u001b[39mf\u001b[39m\u001b[39m'\u001b[39m\u001b[39m{\u001b[39;00mi\u001b[39m+\u001b[39m\u001b[39m1\u001b[39m\u001b[39m}\u001b[39;00m\u001b[39m'\u001b[39m \u001b[39m+\u001b[39m \u001b[39m'\u001b[39m\u001b[39m.tif\u001b[39m\u001b[39m'\u001b[39m\n\u001b[1;32m----> 7\u001b[0m wget\u001b[39m.\u001b[39;49mdownload(url, export_address)\n",
            "File \u001b[1;32mc:\\Users\\Yinan Feng\\.conda\\envs\\geos\\Lib\\site-packages\\wget.py:526\u001b[0m, in \u001b[0;36mdownload\u001b[1;34m(url, out, bar)\u001b[0m\n\u001b[0;32m    524\u001b[0m \u001b[39melse\u001b[39;00m:\n\u001b[0;32m    525\u001b[0m     binurl \u001b[39m=\u001b[39m url\n\u001b[1;32m--> 526\u001b[0m (tmpfile, headers) \u001b[39m=\u001b[39m ulib\u001b[39m.\u001b[39;49murlretrieve(binurl, tmpfile, callback)\n\u001b[0;32m    527\u001b[0m filename \u001b[39m=\u001b[39m detect_filename(url, out, headers)\n\u001b[0;32m    528\u001b[0m \u001b[39mif\u001b[39;00m outdir:\n",
            "File \u001b[1;32mc:\\Users\\Yinan Feng\\.conda\\envs\\geos\\Lib\\urllib\\request.py:241\u001b[0m, in \u001b[0;36murlretrieve\u001b[1;34m(url, filename, reporthook, data)\u001b[0m\n\u001b[0;32m    224\u001b[0m \u001b[39m\u001b[39m\u001b[39m\"\"\"\u001b[39;00m\n\u001b[0;32m    225\u001b[0m \u001b[39mRetrieve a URL into a temporary location on disk.\u001b[39;00m\n\u001b[0;32m    226\u001b[0m \n\u001b[1;32m   (...)\u001b[0m\n\u001b[0;32m    237\u001b[0m \u001b[39mdata file as well as the resulting HTTPMessage object.\u001b[39;00m\n\u001b[0;32m    238\u001b[0m \u001b[39m\"\"\"\u001b[39;00m\n\u001b[0;32m    239\u001b[0m url_type, path \u001b[39m=\u001b[39m _splittype(url)\n\u001b[1;32m--> 241\u001b[0m \u001b[39mwith\u001b[39;00m contextlib\u001b[39m.\u001b[39mclosing(urlopen(url, data)) \u001b[39mas\u001b[39;00m fp:\n\u001b[0;32m    242\u001b[0m     headers \u001b[39m=\u001b[39m fp\u001b[39m.\u001b[39minfo()\n\u001b[0;32m    244\u001b[0m     \u001b[39m# Just return the local path and the \"headers\" for file://\u001b[39;00m\n\u001b[0;32m    245\u001b[0m     \u001b[39m# URLs. No sense in performing a copy unless requested.\u001b[39;00m\n",
            "File \u001b[1;32mc:\\Users\\Yinan Feng\\.conda\\envs\\geos\\Lib\\urllib\\request.py:216\u001b[0m, in \u001b[0;36murlopen\u001b[1;34m(url, data, timeout, cafile, capath, cadefault, context)\u001b[0m\n\u001b[0;32m    214\u001b[0m \u001b[39melse\u001b[39;00m:\n\u001b[0;32m    215\u001b[0m     opener \u001b[39m=\u001b[39m _opener\n\u001b[1;32m--> 216\u001b[0m \u001b[39mreturn\u001b[39;00m opener\u001b[39m.\u001b[39;49mopen(url, data, timeout)\n",
            "File \u001b[1;32mc:\\Users\\Yinan Feng\\.conda\\envs\\geos\\Lib\\urllib\\request.py:525\u001b[0m, in \u001b[0;36mOpenerDirector.open\u001b[1;34m(self, fullurl, data, timeout)\u001b[0m\n\u001b[0;32m    523\u001b[0m \u001b[39mfor\u001b[39;00m processor \u001b[39min\u001b[39;00m \u001b[39mself\u001b[39m\u001b[39m.\u001b[39mprocess_response\u001b[39m.\u001b[39mget(protocol, []):\n\u001b[0;32m    524\u001b[0m     meth \u001b[39m=\u001b[39m \u001b[39mgetattr\u001b[39m(processor, meth_name)\n\u001b[1;32m--> 525\u001b[0m     response \u001b[39m=\u001b[39m meth(req, response)\n\u001b[0;32m    527\u001b[0m \u001b[39mreturn\u001b[39;00m response\n",
            "File \u001b[1;32mc:\\Users\\Yinan Feng\\.conda\\envs\\geos\\Lib\\urllib\\request.py:634\u001b[0m, in \u001b[0;36mHTTPErrorProcessor.http_response\u001b[1;34m(self, request, response)\u001b[0m\n\u001b[0;32m    631\u001b[0m \u001b[39m# According to RFC 2616, \"2xx\" code indicates that the client's\u001b[39;00m\n\u001b[0;32m    632\u001b[0m \u001b[39m# request was successfully received, understood, and accepted.\u001b[39;00m\n\u001b[0;32m    633\u001b[0m \u001b[39mif\u001b[39;00m \u001b[39mnot\u001b[39;00m (\u001b[39m200\u001b[39m \u001b[39m<\u001b[39m\u001b[39m=\u001b[39m code \u001b[39m<\u001b[39m \u001b[39m300\u001b[39m):\n\u001b[1;32m--> 634\u001b[0m     response \u001b[39m=\u001b[39m \u001b[39mself\u001b[39;49m\u001b[39m.\u001b[39;49mparent\u001b[39m.\u001b[39;49merror(\n\u001b[0;32m    635\u001b[0m         \u001b[39m'\u001b[39;49m\u001b[39mhttp\u001b[39;49m\u001b[39m'\u001b[39;49m, request, response, code, msg, hdrs)\n\u001b[0;32m    637\u001b[0m \u001b[39mreturn\u001b[39;00m response\n",
            "File \u001b[1;32mc:\\Users\\Yinan Feng\\.conda\\envs\\geos\\Lib\\urllib\\request.py:563\u001b[0m, in \u001b[0;36mOpenerDirector.error\u001b[1;34m(self, proto, *args)\u001b[0m\n\u001b[0;32m    561\u001b[0m \u001b[39mif\u001b[39;00m http_err:\n\u001b[0;32m    562\u001b[0m     args \u001b[39m=\u001b[39m (\u001b[39mdict\u001b[39m, \u001b[39m'\u001b[39m\u001b[39mdefault\u001b[39m\u001b[39m'\u001b[39m, \u001b[39m'\u001b[39m\u001b[39mhttp_error_default\u001b[39m\u001b[39m'\u001b[39m) \u001b[39m+\u001b[39m orig_args\n\u001b[1;32m--> 563\u001b[0m     \u001b[39mreturn\u001b[39;00m \u001b[39mself\u001b[39;49m\u001b[39m.\u001b[39;49m_call_chain(\u001b[39m*\u001b[39;49margs)\n",
            "File \u001b[1;32mc:\\Users\\Yinan Feng\\.conda\\envs\\geos\\Lib\\urllib\\request.py:496\u001b[0m, in \u001b[0;36mOpenerDirector._call_chain\u001b[1;34m(self, chain, kind, meth_name, *args)\u001b[0m\n\u001b[0;32m    494\u001b[0m \u001b[39mfor\u001b[39;00m handler \u001b[39min\u001b[39;00m handlers:\n\u001b[0;32m    495\u001b[0m     func \u001b[39m=\u001b[39m \u001b[39mgetattr\u001b[39m(handler, meth_name)\n\u001b[1;32m--> 496\u001b[0m     result \u001b[39m=\u001b[39m func(\u001b[39m*\u001b[39;49margs)\n\u001b[0;32m    497\u001b[0m     \u001b[39mif\u001b[39;00m result \u001b[39mis\u001b[39;00m \u001b[39mnot\u001b[39;00m \u001b[39mNone\u001b[39;00m:\n\u001b[0;32m    498\u001b[0m         \u001b[39mreturn\u001b[39;00m result\n",
            "File \u001b[1;32mc:\\Users\\Yinan Feng\\.conda\\envs\\geos\\Lib\\urllib\\request.py:643\u001b[0m, in \u001b[0;36mHTTPDefaultErrorHandler.http_error_default\u001b[1;34m(self, req, fp, code, msg, hdrs)\u001b[0m\n\u001b[0;32m    642\u001b[0m \u001b[39mdef\u001b[39;00m \u001b[39mhttp_error_default\u001b[39m(\u001b[39mself\u001b[39m, req, fp, code, msg, hdrs):\n\u001b[1;32m--> 643\u001b[0m     \u001b[39mraise\u001b[39;00m HTTPError(req\u001b[39m.\u001b[39mfull_url, code, msg, hdrs, fp)\n",
            "\u001b[1;31mHTTPError\u001b[0m: HTTP Error 403: Server failed to authenticate the request. Make sure the value of Authorization header is formed correctly including the signature."
          ]
        }
      ],
      "source": [
        "import wget\n",
        "\n",
        "for i in range(50,3382):\n",
        "    selected_item = items[i]\n",
        "    url = selected_item.assets[\"data\"].href\n",
        "    export_address = f'D:/project/building_height/data/usgs3dep/al/' + 'al' + f'{i+1}' + '.tif'\n",
        "    wget.download(url, export_address)"
      ]
    }
  ],
  "metadata": {
    "kernelspec": {
      "display_name": "geos",
      "language": "python",
      "name": "python3"
    },
    "language_info": {
      "codemirror_mode": {
        "name": "ipython",
        "version": 3
      },
      "file_extension": ".py",
      "mimetype": "text/x-python",
      "name": "python",
      "nbconvert_exporter": "python",
      "pygments_lexer": "ipython3",
      "version": "3.11.0"
    },
    "orig_nbformat": 4,
    "colab": {
      "provenance": [],
      "include_colab_link": true
    }
  },
  "nbformat": 4,
  "nbformat_minor": 0
}