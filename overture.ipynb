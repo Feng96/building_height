{
 "cells": [
  {
   "cell_type": "code",
   "execution_count": 6,
   "metadata": {},
   "outputs": [],
   "source": [
    "import os\n",
    "import leafmap\n",
    "import geopandas as gpd\n",
    "import pandas as pd"
   ]
  },
  {
   "cell_type": "code",
   "execution_count": 7,
   "metadata": {},
   "outputs": [],
   "source": [
    "in_dir = '/media/hdd/Data/Buildings/Overture/'"
   ]
  },
  {
   "cell_type": "code",
   "execution_count": 8,
   "metadata": {},
   "outputs": [
    {
     "data": {
      "text/plain": [
       "['/media/hdd/Data/Buildings/Overture/king_county_wa.shp',\n",
       " '/media/hdd/Data/Buildings/Overture/cook_county_il.shp',\n",
       " '/media/hdd/Data/Buildings/Overture/santa_clara_county_ca.shp',\n",
       " '/media/hdd/Data/Buildings/Overture/eastern_ma.shp',\n",
       " '/media/hdd/Data/Buildings/Overture/orange_county_fl.shp',\n",
       " '/media/hdd/Data/Buildings/Overture/maricopa_and_pinal_counties_az.shp']"
      ]
     },
     "execution_count": 8,
     "metadata": {},
     "output_type": "execute_result"
    }
   ],
   "source": [
    "files = leafmap.find_files(in_dir, ext='shp', recursive=False)\n",
    "files"
   ]
  },
  {
   "cell_type": "code",
   "execution_count": 9,
   "metadata": {},
   "outputs": [],
   "source": [
    "schema = {'geometry': 'Polygon',\n",
    " 'properties': {'est_height': 'float:5.2'}}"
   ]
  },
  {
   "cell_type": "code",
   "execution_count": 10,
   "metadata": {},
   "outputs": [
    {
     "name": "stdout",
     "output_type": "stream",
     "text": [
      "/media/hdd/Data/Buildings/Overture/king_county_wa.shp\n",
      "/media/hdd/Data/Buildings/Overture/cook_county_il.shp\n",
      "/media/hdd/Data/Buildings/Overture/santa_clara_county_ca.shp\n",
      "/media/hdd/Data/Buildings/Overture/eastern_ma.shp\n",
      "/media/hdd/Data/Buildings/Overture/orange_county_fl.shp\n",
      "/media/hdd/Data/Buildings/Overture/maricopa_and_pinal_counties_az.shp\n"
     ]
    }
   ],
   "source": [
    "for file in files:\n",
    "    print(file)\n",
    "    output = file.replace('Overture', 'Overture/float')\n",
    "    if os.path.exists(output):\n",
    "        continue\n",
    "\n",
    "    gdf = gpd.read_file(file)\n",
    "    gdf['est_height'] = gdf['est_height'].astype(float)\n",
    "    gdf.to_file(output, schema=schema)"
   ]
  }
 ],
 "metadata": {
  "kernelspec": {
   "display_name": "geo",
   "language": "python",
   "name": "python3"
  },
  "language_info": {
   "codemirror_mode": {
    "name": "ipython",
    "version": 3
   },
   "file_extension": ".py",
   "mimetype": "text/x-python",
   "name": "python",
   "nbconvert_exporter": "python",
   "pygments_lexer": "ipython3",
   "version": "3.10.9"
  },
  "orig_nbformat": 4,
  "vscode": {
   "interpreter": {
    "hash": "31f05ea183a4718249d13ada7f166c6bdba1d00716247af5c11c23af8d5923f1"
   }
  }
 },
 "nbformat": 4,
 "nbformat_minor": 2
}
