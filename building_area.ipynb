{
 "cells": [
  {
   "cell_type": "code",
   "execution_count": null,
   "metadata": {},
   "outputs": [],
   "source": [
    "import pandas as pd\n",
    "import glob \n",
    "import os\n",
    "import zipfile\n",
    "import geopandas as gpd"
   ]
  },
  {
   "cell_type": "code",
   "execution_count": null,
   "metadata": {},
   "outputs": [],
   "source": [
    "url = 'https://raw.githubusercontent.com/giswqs/data/main/us/us_states.csv'\n",
    "states = pd.read_csv(url)\n",
    "states.head()"
   ]
  },
  {
   "cell_type": "code",
   "execution_count": null,
   "metadata": {},
   "outputs": [],
   "source": [
    "in_dir = '/media/hdd/Data/Buildings/Height/'\n",
    "out_dir = '/media/hdd/Data/Buildings/Height_v2/'"
   ]
  },
  {
   "cell_type": "code",
   "execution_count": null,
   "metadata": {},
   "outputs": [],
   "source": [
    "os.chdir(out_dir)"
   ]
  },
  {
   "cell_type": "code",
   "execution_count": null,
   "metadata": {},
   "outputs": [],
   "source": [
    "schema = {'geometry': 'Polygon',\n",
    " 'properties': {'AREA': 'float:10.2',\n",
    "                'HEIGHT': 'float:5.2',\n",
    "                'SQMETERS': 'float:10.2',}}"
   ]
  },
  {
   "cell_type": "code",
   "execution_count": null,
   "metadata": {},
   "outputs": [],
   "source": [
    "for index, row in states.iterrows():\n",
    "    state_id = row['id']\n",
    "    print(f\"Processing {state_id} ...\")\n",
    "    gdf = gpd.read_file(f'{in_dir}{state_id}.shp')\n",
    "    gdf['AREA'] = gdf.to_crs('epsg:5070').geometry.area  # Albers Equal Area Conic projection\n",
    "    gdf = gdf[['AREA', 'HEIGHT', 'SQMETERS', 'geometry']].to_crs(\"epsg:4326\") #.round({'AREA': 2, 'HEIGHT': 2, 'SQMETERS': 2})\n",
    "    gdf.to_file(f'{out_dir}{state_id}.shp', schema=schema)\n",
    "\n",
    "    path = os.path.join(state_id + '.*')\n",
    "    files = glob.glob(path)\n",
    "    if len(files) > 0:\n",
    "        # Name of the output zip file\n",
    "        zip_file_path = os.path.join(out_dir, state_id + '.zip')\n",
    "        if not os.path.exists(zip_file_path):\n",
    "\n",
    "            # Create a ZipFile object with write permission\n",
    "            with zipfile.ZipFile(zip_file_path, 'w', compression=zipfile.ZIP_DEFLATED) as zip_obj:\n",
    "                \n",
    "                # Iterate over each file in the list\n",
    "                for file in files:\n",
    "                    \n",
    "                    # Add the file to the zip\n",
    "                    zip_obj.write(file)"
   ]
  },
  {
   "cell_type": "code",
   "execution_count": null,
   "metadata": {},
   "outputs": [],
   "source": []
  },
  {
   "cell_type": "code",
   "execution_count": null,
   "metadata": {},
   "outputs": [],
   "source": [
    "filepath = '/media/hdd/Team-Drives/Buildings/MS_USBuildingHeight/DC/'"
   ]
  },
  {
   "cell_type": "code",
   "execution_count": null,
   "metadata": {},
   "outputs": [],
   "source": [
    "gdf = gpd.read_file(filepath + 'DC.shp')"
   ]
  },
  {
   "cell_type": "code",
   "execution_count": null,
   "metadata": {},
   "outputs": [],
   "source": [
    "gdf.head()"
   ]
  },
  {
   "cell_type": "code",
   "execution_count": null,
   "metadata": {},
   "outputs": [],
   "source": [
    "gdf['AREA'] = gdf.to_crs('epsg:5070').geometry.area  # Albers Equal Area Conic projection"
   ]
  },
  {
   "cell_type": "code",
   "execution_count": null,
   "metadata": {},
   "outputs": [],
   "source": [
    "schema = {'geometry': 'Polygon',\n",
    " 'properties': {'AREA': 'float:10.2',\n",
    "                'HEIGHT': 'float:5.2',\n",
    "                'SQMETERS': 'float:10.2',}}"
   ]
  },
  {
   "cell_type": "code",
   "execution_count": null,
   "metadata": {},
   "outputs": [],
   "source": [
    "gdf = gdf[['AREA', 'HEIGHT', 'SQMETERS', 'geometry']] #.round({'AREA': 2, 'HEIGHT': 2, 'SQMETERS': 2})\n",
    "gdf.head()"
   ]
  },
  {
   "cell_type": "code",
   "execution_count": null,
   "metadata": {},
   "outputs": [],
   "source": [
    "gdf.to_file('data/DC.shp', schema=schema)"
   ]
  },
  {
   "cell_type": "code",
   "execution_count": null,
   "metadata": {},
   "outputs": [],
   "source": []
  }
 ],
 "metadata": {
  "kernelspec": {
   "display_name": "geo",
   "language": "python",
   "name": "python3"
  },
  "language_info": {
   "codemirror_mode": {
    "name": "ipython",
    "version": 3
   },
   "file_extension": ".py",
   "mimetype": "text/x-python",
   "name": "python",
   "nbconvert_exporter": "python",
   "pygments_lexer": "ipython3",
   "version": "3.10.9"
  },
  "orig_nbformat": 4
 },
 "nbformat": 4,
 "nbformat_minor": 2
}
