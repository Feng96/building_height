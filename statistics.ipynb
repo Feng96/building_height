{
 "cells": [
  {
   "cell_type": "code",
   "execution_count": null,
   "metadata": {},
   "outputs": [],
   "source": [
    "import os\n",
    "import leafmap\n",
    "import geopandas as gpd\n",
    "import pandas as pd"
   ]
  },
  {
   "cell_type": "code",
   "execution_count": null,
   "metadata": {},
   "outputs": [],
   "source": [
    "in_dir = '/media/hdd/Team-Drives/Buildings/MS_USBuildingHeight/'\n",
    "out_dir = '/media/hdd/Team-Drives/Buildings/Statistics/'"
   ]
  },
  {
   "cell_type": "code",
   "execution_count": null,
   "metadata": {},
   "outputs": [],
   "source": [
    "files = leafmap.find_files(in_dir, ext='*.zip')\n",
    "files.sort()"
   ]
  },
  {
   "cell_type": "code",
   "execution_count": null,
   "metadata": {},
   "outputs": [],
   "source": [
    "for file in files:\n",
    "    basename = os.path.basename(file)\n",
    "    out_csv = os.path.join(out_dir, basename.replace('.zip', '.csv'))\n",
    "    state = basename.split('.')[0]\n",
    "    # if state not in ['AK', 'DC']:\n",
    "    #     continue\n",
    "    print(f'Processing {state} ...')\n",
    "    gdf = gpd.read_file(file)\n",
    "\n",
    "    df = gdf.describe().transpose()\n",
    "    df['median'] = df['50%']\n",
    "    df['state'] = state\n",
    "    df.drop(['25%', '50%', '75%'], axis=1, inplace=True)\n",
    "    df = df[['state', 'count', 'mean', 'std', 'min', 'median', 'max']]\n",
    "    df = df.round(2)\n",
    "    df['count'] = df['count'].astype(int)\n",
    "\n",
    "    for item in ['AREA', 'HEIGHT', 'SQMETERS']:\n",
    "        out_csv = os.path.join(out_dir, item + '.csv')\n",
    "        if not os.path.exists(out_csv):\n",
    "            stats = df.loc[[item]]\n",
    "            stats.to_csv(out_csv, index=False)\n",
    "        else:\n",
    "            stats = pd.read_csv(out_csv)\n",
    "            new_row = df.loc[[item]].reset_index().to_dict('records')[0]\n",
    "            new_row.pop('index')\n",
    "            stats = stats.append(new_row, ignore_index=True)\n",
    "            stats.to_csv(out_csv, index=False)"
   ]
  },
  {
   "cell_type": "code",
   "execution_count": null,
   "metadata": {},
   "outputs": [],
   "source": [
    "files = leafmap.find_files(out_dir, ext='*.csv')\n",
    "files.sort()\n",
    "files"
   ]
  },
  {
   "cell_type": "code",
   "execution_count": null,
   "metadata": {},
   "outputs": [],
   "source": [
    "for file in files:\n",
    "    df = pd.read_csv(file)\n",
    "    df['total'] = df['count'] * df['mean']\n",
    "    df['total'] = df['total'].astype(int)\n",
    "    df.to_csv(file, index=False)"
   ]
  },
  {
   "cell_type": "code",
   "execution_count": null,
   "metadata": {},
   "outputs": [],
   "source": [
    "in_dir = '/media/hdd/Team-Drives/Buildings/Validation/'\n",
    "out_dir = '/media/hdd/Team-Drives/Buildings/Statistics/'"
   ]
  },
  {
   "cell_type": "code",
   "execution_count": null,
   "metadata": {},
   "outputs": [],
   "source": [
    "files = leafmap.find_files(in_dir, ext='*.shp', recursive=False)\n",
    "files.sort()"
   ]
  },
  {
   "cell_type": "code",
   "execution_count": null,
   "metadata": {},
   "outputs": [],
   "source": [
    "files"
   ]
  },
  {
   "cell_type": "code",
   "execution_count": null,
   "metadata": {},
   "outputs": [],
   "source": [
    "for index, file in enumerate(files):\n",
    "    if index < 0:\n",
    "        continue\n",
    "    basename = os.path.basename(file)\n",
    "    print(f'Processing {basename} ...')\n",
    "\n",
    "    gdf = gpd.read_file(file)\n",
    "    gdf['difference'] = gdf['HEIGHT'] - gdf['est_height']\n",
    "    df = gdf.describe().transpose()\n",
    "    \n",
    "    df['median'] = df['50%']\n",
    "    df['county'] = basename.replace('.shp', '')\n",
    "    df['index'] = df.index\n",
    "    df.drop(['25%', '50%', '75%'], axis=1, inplace=True)\n",
    "    df = df[['index', 'county', 'count', 'mean', 'std', 'min', 'median', 'max']]\n",
    "    df = df.round(2)\n",
    "    df['count'] = df['count'].astype(int)\n",
    "\n",
    "    out_csv = os.path.join(out_dir, 'VALIDATION.csv')\n",
    "    if not os.path.exists(out_csv):\n",
    "        df.to_csv(out_csv, index=False)\n",
    "    else:\n",
    "        stats = pd.read_csv(out_csv)\n",
    "        stats = stats.append(df, ignore_index=True)\n",
    "        stats.sort_values(by=['index'], inplace=True)\n",
    "        stats.to_csv(out_csv, index=False)\n"
   ]
  }
 ],
 "metadata": {
  "kernelspec": {
   "display_name": "geo",
   "language": "python",
   "name": "python3"
  },
  "language_info": {
   "codemirror_mode": {
    "name": "ipython",
    "version": 3
   },
   "file_extension": ".py",
   "mimetype": "text/x-python",
   "name": "python",
   "nbconvert_exporter": "python",
   "pygments_lexer": "ipython3",
   "version": "3.10.8"
  },
  "orig_nbformat": 4
 },
 "nbformat": 4,
 "nbformat_minor": 2
}
